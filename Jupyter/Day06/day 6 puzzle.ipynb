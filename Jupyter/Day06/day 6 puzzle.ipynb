{
 "cells": [
  {
   "cell_type": "markdown",
   "metadata": {},
   "source": [
    "# Day 6: Probably a Fire Hazard\n",
    "\n",
    "Because your neighbors keep defeating you in the holiday house decorating contest year after year, you've decided to deploy one million lights in a 1000x1000 grid.\n",
    "\n",
    "Furthermore, because you've been especially nice this year, Santa has mailed you instructions on how to display the ideal lighting configuration.\n",
    "\n",
    "Lights in your grid are numbered from 0 to 999 in each direction; the lights at each corner are at 0,0, 0,999, 999,999, and 999,0. The instructions include whether to turn on, turn off, or toggle various inclusive ranges given as coordinate pairs. Each coordinate pair represents opposite corners of a rectangle, inclusive; a coordinate pair like 0,0 through 2,2 therefore refers to 9 lights in a 3x3 square. The lights all start turned off.\n",
    "\n",
    "To defeat your neighbors this year, all you have to do is set up your lights by doing the instructions Santa sent you in order.\n",
    "\n",
    "For example:\n",
    "- turn on 0,0 through 999,999 would turn on (or leave on) every light.\n",
    "- toggle 0,0 through 999,0 would toggle the first line of 1000 lights, turning off the ones that were on, and turning on the ones that were off.\n",
    "- turn off 499,499 through 500,500 would turn off (or leave off) the middle four lights.\n",
    "\n",
    "After following the instructions, **how many lights are lit?**"
   ]
  },
  {
   "cell_type": "markdown",
   "metadata": {},
   "source": [
    "## Read input\n",
    "\n",
    "First we read all lines from the input file."
   ]
  },
  {
   "cell_type": "code",
   "execution_count": 90,
   "metadata": {},
   "outputs": [
    {
     "name": "stdout",
     "output_type": "stream",
     "text": [
      "Read 300 lines of instructions\n"
     ]
    }
   ],
   "source": [
    "with open(\"input.txt\", \"r\") as file:\n",
    "    lines=file.readlines()\n",
    "print( f\"Read {len(lines)} lines of instructions\")"
   ]
  },
  {
   "cell_type": "markdown",
   "metadata": {},
   "source": [
    "Then we parse them with regular expressions:"
   ]
  },
  {
   "cell_type": "code",
   "execution_count": 91,
   "metadata": {},
   "outputs": [
    {
     "name": "stdout",
     "output_type": "stream",
     "text": [
      "Parsed 300 instructions\n"
     ]
    }
   ],
   "source": [
    "import re\n",
    "\n",
    "instructions = []\n",
    "for line in lines:\n",
    "    match = re.search(\"(turn on|turn off|toggle) (\\d*),(\\d*) through (\\d*),(\\d*)\", line)\n",
    "    if match:\n",
    "        instructions.append({\n",
    "            'command': match.group(1),\n",
    "            'x1': int(match.group(2)),\n",
    "            'y1': int(match.group(3)),\n",
    "            'x2': int(match.group(4)),\n",
    "            'y2': int(match.group(5))\n",
    "        })\n",
    "print(f\"Parsed {len(instructions)} instructions\")        "
   ]
  },
  {
   "cell_type": "markdown",
   "metadata": {},
   "source": [
    "## Puzzle 1\n",
    "\n",
    "### Apply instructions"
   ]
  },
  {
   "cell_type": "code",
   "execution_count": 93,
   "metadata": {},
   "outputs": [
    {
     "name": "stdout",
     "output_type": "stream",
     "text": [
      "543903 lights are lit\n"
     ]
    }
   ],
   "source": [
    "import numpy as np\n",
    "lights = np.zeros((1000, 1000), dtype=bool)\n",
    "\n",
    "for instruction in instructions:\n",
    "    x1, x2, y1, y2 = instruction['x1'],  instruction['x2'],  instruction['y1'],  instruction['y2']\n",
    "    if instruction['command'] == \"turn on\":\n",
    "        lights[x1:x2+1, y1:y2+1] =  True\n",
    "    elif instruction['command'] == \"turn off\":\n",
    "        lights[x1:x2+1, y1:y2+1] =  False\n",
    "    elif instruction['command'] == \"toggle\":\n",
    "        lights[x1:x2+1, y1:y2+1] = np.logical_not(lights[x1:x2+1, y1:y2+1]) \n",
    "        \n",
    "lights_on = np.count_nonzero(lights)        \n",
    "print(f\"{lights_on} lights are lit\")    "
   ]
  },
  {
   "cell_type": "markdown",
   "metadata": {},
   "source": [
    "### Show Santa's light grid"
   ]
  },
  {
   "cell_type": "code",
   "execution_count": 94,
   "metadata": {},
   "outputs": [
    {
     "data": {
      "image/png": "[encoded data removed]",
      "text/plain": [
       "<Figure size 1080x1080 with 1 Axes>"
      ]
     },
     "metadata": {
      "needs_background": "light"
     },
     "output_type": "display_data"
    }
   ],
   "source": [
    "import matplotlib.pyplot as plt\n",
    "%matplotlib inline\n",
    "\n",
    "rgb = np.zeros((1000, 1000, 3), dtype=np.uint8)\n",
    "rgb[np.where(lights)] = [255, 255, 0]   # Set pixels where lights are True to yellow\n",
    "\n",
    "fig1 = plt.figure(figsize = (15,15))\n",
    "ax = fig1.add_subplot(111)\n",
    "ax.imshow(rgb, interpolation='none')\n",
    "ax.set_title(\"Santa's lights grid\")\n",
    "plt.show()"
   ]
  },
  {
   "cell_type": "code",
   "execution_count": null,
   "metadata": {},
   "outputs": [],
   "source": []
  }
 ],
 "metadata": {
  "kernelspec": {
   "display_name": "Python 3",
   "language": "python",
   "name": "python3"
  },
  "language_info": {
   "codemirror_mode": {
    "name": "ipython",
    "version": 3
   },
   "file_extension": ".py",
   "mimetype": "text/x-python",
   "name": "python",
   "nbconvert_exporter": "python",
   "pygments_lexer": "ipython3",
   "version": "3.7.4"
  }
 },
 "nbformat": 4,
 "nbformat_minor": 2
}
